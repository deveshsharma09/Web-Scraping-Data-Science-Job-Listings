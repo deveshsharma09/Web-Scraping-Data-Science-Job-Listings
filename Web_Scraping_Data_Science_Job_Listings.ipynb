{
  "nbformat": 4,
  "nbformat_minor": 0,
  "metadata": {
    "colab": {
      "provenance": [],
      "include_colab_link": true
    },
    "kernelspec": {
      "name": "python3",
      "display_name": "Python 3"
    },
    "language_info": {
      "name": "python"
    }
  },
  "cells": [
    {
      "cell_type": "markdown",
      "metadata": {
        "id": "view-in-github",
        "colab_type": "text"
      },
      "source": [
        "<a href=\"https://colab.research.google.com/github/deveshsharma09/Web-Scraping-Data-Science-Job-Listings/blob/main/Web_Scraping_Data_Science_Job_Listings.ipynb\" target=\"_parent\"><img src=\"https://colab.research.google.com/assets/colab-badge.svg\" alt=\"Open In Colab\"/></a>"
      ]
    },
    {
      "cell_type": "markdown",
      "source": [
        "# **Project Name: Web Scraping Data Science Job Listings**\n"
      ],
      "metadata": {
        "id": "DXV3f7QesA4m"
      }
    },
    {
      "cell_type": "markdown",
      "source": [
        "##### **Project Type**    - EDA\n",
        "##### **Contribution**    - Individual"
      ],
      "metadata": {
        "id": "bOf2a4T-sIjA"
      }
    },
    {
      "cell_type": "markdown",
      "source": [
        "#**Project Summary**\n",
        "\n",
        "## Introduction:\n",
        "The \"Web Scraping Data Science Job Listings\" project aims to gather, analyze, and present data science job listings from various online sources using web scraping techniques. Data science is a rapidly growing field with diverse opportunities, and staying updated with job trends is crucial for both job seekers and employers. By automating the process of collecting job listings, this project facilitates efficient access to comprehensive data science job market insights.\n",
        "\n",
        "##Objectives:\n",
        "1. **Data Collection**: Utilize web scraping tools and techniques to gather job listings from prominent online job platforms and company career pages.\n",
        "2. **Data Processing**: Clean, organize, and structure the collected data to ensure consistency and usability for analysis.\n",
        "3. **Analysis**: Extract key insights such as job trends, popular skills, salary ranges, geographic distribution, and industry demand from the collected job listings.\n",
        "4. **Visualization**: Present the analyzed data through informative visualizations such as graphs, charts, and maps to enhance understanding and decision-making.\n",
        "5. **Automation**: Develop a system for periodic updates to ensure that the job listing database remains current and relevant over time.\n",
        "\n",
        "##Methodology:\n",
        "1. **Web Scraping**: Employ Python libraries like BeautifulSoup and Scrapy to extract job listings from targeted websites.\n",
        "2. **Data Cleaning and Preprocessing**: Use pandas and other data manipulation tools to clean and structure the scraped data, handling inconsistencies and missing values.\n",
        "3. **Analysis and Visualization**: Utilize libraries like matplotlib, seaborn, and Plotly for exploratory data analysis and visualization.\n",
        "4. **Automation**: Implement scheduled web scraping scripts using tools like cron jobs or task schedulers to regularly update the job listings database.\n",
        "\n",
        "##Expected Outcomes:\n",
        "1. A comprehensive database of data science job listings aggregated from multiple online sources.\n",
        "2. Insights into the current trends, skills demand, and salary ranges in the data science job market.\n",
        "3. Visualizations that effectively communicate key findings to stakeholders, including job seekers, employers, and researchers.\n",
        "4. Automation scripts for continuous updates to ensure the relevance and timeliness of the collected data.\n",
        "\n",
        "##Potential Impact:\n",
        "1. **For Job Seekers**: Provides valuable insights into job market trends, helping them tailor their skills and applications accordingly.\n",
        "2. **For Employers**: Offers insights into competitor hiring strategies, salary benchmarks, and skill requirements, aiding in recruitment and talent acquisition.\n",
        "3. **For Researchers**: Serves as a valuable resource for studying evolving trends and patterns in the data science job market.\n",
        "4. **For Educators**: Helps in aligning curriculum with industry demands by identifying emerging skills and technologies.\n",
        "\n"
      ],
      "metadata": {
        "id": "HugbhVn_rKke"
      }
    },
    {
      "cell_type": "markdown",
      "source": [],
      "metadata": {
        "id": "26Fj6YI6rNzo"
      }
    },
    {
      "cell_type": "markdown",
      "source": [
        "## **Problem Statement: Navigating the Data Science Job Landscape**\n",
        "\n",
        "🚀 Unleash your creativity in crafting a solution that taps into the heartbeat of the data science job market! Envision an ingenious project that seamlessly wields cutting-edge web scraping techniques and illuminating data analysis.\n",
        "\n",
        "🔍 Your mission? To engineer a tool that effortlessly gathers job listings from a multitude of online sources, extracting pivotal nuggets such as job descriptions, qualifications, locations, and salaries.\n",
        "\n",
        "🧩 However, the true puzzle lies in deciphering this trove of data. Can your solution discern patterns that spotlight the most coveted skills? Are there threads connecting job types to compensation packages? How might it predict shifts in industry demand?\n",
        "\n",
        "🎯 The core objectives of this challenge are as follows:\n",
        "\n",
        "1. Web Scraping Mastery: Forge an adaptable and potent web scraping mechanism. Your creation should adeptly harvest data science job postings from a diverse array of online platforms. Be ready to navigate evolving website structures and process hefty data loads.\n",
        "\n",
        "2. Data Symphony: Skillfully distill vital insights from the harvested job listings. Extract and cleanse critical information like job titles, company names, descriptions, qualifications, salaries, locations, and deadlines. Think data refinement and organization.\n",
        "\n",
        "3. Market Wizardry: Conjure up analytical tools that conjure meaningful revelations from the gathered data. Dive into the abyss of job demand trends, geographic distribution, salary variations tied to experience and location, favored qualifications, and emerging skill demands.\n",
        "\n",
        "4. Visual Magic: Weave a tapestry of visualization magic. Design captivating charts, graphs, and visual representations that paint a crystal-clear picture of the analyzed data. Make these visuals the compass that guides users through job market intricacies.\n",
        "\n",
        "🌐 While the web scraping universe is yours to explore, consider these platforms as potential stomping grounds:\n",
        "\n",
        "* LinkedIn Jobs\n",
        "* Indeed\n",
        "* Naukri\n",
        "* Glassdoor\n",
        "* AngelList\n",
        "\n",
        "🎈 Your solution should not only decode the data science job realm but also empower professionals, job seekers, and recruiters to harness the dynamic shifts of the industry. The path is open, the challenge beckons – are you ready to embark on this exciting journey?\n",
        "\n",
        "\n",
        "\n",
        "\n"
      ],
      "metadata": {
        "id": "WC4RKKoko7qr"
      }
    },
    {
      "cell_type": "markdown",
      "source": [
        "### **Import Libraries**"
      ],
      "metadata": {
        "id": "Oti_zjcnsUxO"
      }
    },
    {
      "cell_type": "code",
      "source": [
        "# Import Libraries\n",
        "import numpy as np\n",
        "import pandas as pd\n",
        "import seaborn as sns\n",
        "import matplotlib.pyplot as plt\n",
        "from bs4 import BeautifulSoup\n",
        "import requests\n",
        "from wordcloud import WordCloud\n",
        "import warnings\n",
        "warnings.filterwarnings('ignore')"
      ],
      "metadata": {
        "id": "o7BDfQ1-sQX-"
      },
      "execution_count": 3,
      "outputs": []
    },
    {
      "cell_type": "markdown",
      "source": [
        "###**Web Scraping Job Listings with BeautifulSoup and Pandas**"
      ],
      "metadata": {
        "id": "T4xMVQcHsez9"
      }
    },
    {
      "cell_type": "code",
      "source": [
        "# Define the function to extract salary information\n",
        "def extract_salary(job_element):\n",
        "    # Extract salary information containing 'Lacs'\n",
        "    salary_tags = job_element.find_all('li')\n",
        "    for tag in salary_tags:\n",
        "        if 'Lacs' in tag.text:\n",
        "            return tag.text.strip().replace('₹Rs','').replace('Lacs p.a.','')\n",
        "    return 'Not Provided'\n",
        "\n",
        "def scrape_jobs(pages):\n",
        "    all_data = []\n",
        "    experience_required_list = []\n",
        "\n",
        "    for page in range(1, pages + 1):\n",
        "        # Define the URL for each page\n",
        "        url = f'https://www.timesjobs.com/candidate/job-search.html?from=submit&luceneResultSize=25&txtKeywords=0DQT0Data%20Analyst0DQT0%20,0DQT0Data%20Mining0DQT0,0DQT0Data%20Architect0DQT0,0DQT0Machine%20Learning0DQT0,0DQT0Power%20Bi0DQT0,0DQT0Business%20Analyst0DQT0,0DQT0senior%20business%20analyst0DQT0,0DQT0Bi%20Developer0DQT0&postWeek=7&searchType=personalizedSearch&actualTxtKeywords=0DQT0Data%20Analyst0DQT0%20,0DQT0Data%20Mining0DQT0,0DQT0Data%20Architect0DQT0,0DQT0Machine%20Learning0DQT0,0DQT0Power%20Bi0DQT0,0DQT0Business%20Analyst0DQT0,senior%20business%20analyst,0DQT0Bi%20Developer0DQT0&searchBy=0&rdoOperator=OR&pDate=I&sequence={page}&startPage=1'\n",
        "        html_text = requests.get(url).text\n",
        "        soup = BeautifulSoup(html_text, 'lxml')\n",
        "\n",
        "        # Refining the extraction process to remove unwanted strings from the experience information\n",
        "        for item in soup.find_all('ul', {'class': 'top-jd-dtl clearfix'}):\n",
        "            exp_tag = item.find('li')\n",
        "            if exp_tag and 'yrs' in exp_tag.text:\n",
        "                # Extracting the experience text and removing any unwanted strings\n",
        "                experience = exp_tag.text.replace('card_travel', '').strip().replace('yrs','')\n",
        "                experience_required_list.append(experience)\n",
        "            else:\n",
        "                experience_required_list.append('Not Mentioned')\n",
        "\n",
        "        # Extract job listings\n",
        "        job_listings = soup.find_all('li', class_='clearfix job-bx wht-shd-bx')\n",
        "\n",
        "        for job in job_listings:\n",
        "            skills = job.find('span', class_='srp-skills').text.strip().replace(' ', '').replace('\\r', '').replace('\\n', '').replace('.', 'Not Provided')\n",
        "            location_element = job.find('ul', class_='top-jd-dtl clearfix')\n",
        "            location = location_element.find('span').text.strip() if location_element else 'Not Provided'\n",
        "            posted_ago = job.find('span', class_='sim-posted').span.text.strip().replace('\\r', '').replace('Posted ', '').replace('\\t', '').replace('\\n', '')\n",
        "            company_name = job.find('h3', class_='joblist-comp-name').text.strip().replace('\\r', '').replace('\\n', '').replace(' (More Jobs)', '')\n",
        "\n",
        "            # Create a dictionary for job data\n",
        "            job_data = {\n",
        "                'Job Title': job.find('h2').text.strip(),\n",
        "                'Company': company_name,\n",
        "                'Skills Required': skills,\n",
        "                'Job Posted Ago': posted_ago,\n",
        "                'Location': location,\n",
        "                'Salary(Lacs p.a.)': extract_salary(job)\n",
        "            }\n",
        "            # Append the job data to the list\n",
        "            all_data.append(job_data)\n",
        "\n",
        "    # Create a DataFrame from the collected job data\n",
        "    df = pd.DataFrame(all_data)\n",
        "    # Add the 'Experience Required' column to the DataFrame\n",
        "    df['Experience Required(Years)'] = experience_required_list\n",
        "\n",
        "    return df\n",
        "\n",
        "# Scrape the first 10 pages of job listings\n",
        "df = scrape_jobs(10)\n"
      ],
      "metadata": {
        "id": "nH89vGnHsYKF"
      },
      "execution_count": 4,
      "outputs": []
    },
    {
      "cell_type": "markdown",
      "source": [
        "### **Dataset First View**"
      ],
      "metadata": {
        "id": "r0ZdA86yso4t"
      }
    },
    {
      "cell_type": "code",
      "source": [
        "# Display the head of the DataFrame with data from multiple pages\n",
        "print('Scraped Data from Multiple Pages:')\n",
        "df.head(10)"
      ],
      "metadata": {
        "colab": {
          "base_uri": "https://localhost:8080/",
          "height": 450
        },
        "id": "p1aUHamXsjO-",
        "outputId": "a588ea75-0d54-4d63-eff5-968a769f1dad"
      },
      "execution_count": 5,
      "outputs": [
        {
          "output_type": "stream",
          "name": "stdout",
          "text": [
            "Scraped Data from Multiple Pages:\n"
          ]
        },
        {
          "output_type": "execute_result",
          "data": {
            "text/plain": [
              "                                           Job Title  \\\n",
              "0                                   Power BI Analyst   \n",
              "1                       Power BI Analyst || Dehradun   \n",
              "2                            Senior Business Analyst   \n",
              "3          EbizON || Power BI Consultant || Dehradun   \n",
              "4  Machine Designer , Doctor / Nurse / Healthcare...   \n",
              "5          Senior Business Analyst at Fiserv ,  Inc.   \n",
              "6                                   Business Analyst   \n",
              "7                                 Power BI Developer   \n",
              "8                                 Power BI Developer   \n",
              "9                                 Power BI Developer   \n",
              "\n",
              "                           Company  \\\n",
              "0         Mindteck  ( India )  Ltd   \n",
              "1      ebizon net info  ( p )  ltd   \n",
              "2             Fiserv India Pvt Ltd   \n",
              "3      ebizon net info  ( p )  ltd   \n",
              "4                        Imran       \n",
              "5                fiserv ce pvt ltd   \n",
              "6             LTIMindtree Ltd.       \n",
              "7  BUSISOL SOURCING INDIA PVT. LTD   \n",
              "8                  PUBLICIS GROUPE   \n",
              "9                       Techcronus   \n",
              "\n",
              "                                     Skills Required Job Posted Ago  \\\n",
              "0  sqlexpert,powerbiproficiency,daxknowledge,data...   few days ago   \n",
              "1  biconsulting,datamining,machinelearning,busine...   few days ago   \n",
              "2  businessanalysis,technicaldevelopment,stakehol...     6 days ago   \n",
              "3  bisystemstesting,datamining,machinelearning,bu...   few days ago   \n",
              "4  GeneralManagement,BusinessDevelopment,business...     2 days ago   \n",
              "5  businessanalysis,technicalspecifications,appli...     6 days ago   \n",
              "6  BusinessAnalyst,seniorbusinessanalyst,business...   few days ago   \n",
              "7  mdx,bi,datawarehousing,businessintelligence,sq...     4 days ago   \n",
              "8  businessservices,tax,accounting,treasury,legal...     3 days ago   \n",
              "9  bi,database,datamodeling,dataintegration,datap...     6 days ago   \n",
              "\n",
              "                                       Location Salary(Lacs p.a.)  \\\n",
              "0                                        Mumbai      Not Provided   \n",
              "1                                      Dehradun      Not Provided   \n",
              "2                                          Pune      Not Provided   \n",
              "3                                      Dehradun      Not Provided   \n",
              "4  Australia,  Canada,  New Zealand,  Singapore      4.10 - 6.20    \n",
              "5                                          Pune      Not Provided   \n",
              "6                                   Navi Mumbai      Not Provided   \n",
              "7                                       Chennai      Not Provided   \n",
              "8                                       Gurgaon      Not Provided   \n",
              "9                                     Ahmedabad      Not Provided   \n",
              "\n",
              "  Experience Required(Years)  \n",
              "0                     3 - 5   \n",
              "1                     1 - 4   \n",
              "2                    8 - 11   \n",
              "3                     1 - 4   \n",
              "4                     0 - 2   \n",
              "5                    8 - 11   \n",
              "6                     3 - 5   \n",
              "7                     5 - 8   \n",
              "8                     2 - 6   \n",
              "9                     2 - 4   "
            ],
            "text/html": [
              "\n",
              "  <div id=\"df-b7ef29c4-dfdf-4f05-8b87-d81c302690d7\" class=\"colab-df-container\">\n",
              "    <div>\n",
              "<style scoped>\n",
              "    .dataframe tbody tr th:only-of-type {\n",
              "        vertical-align: middle;\n",
              "    }\n",
              "\n",
              "    .dataframe tbody tr th {\n",
              "        vertical-align: top;\n",
              "    }\n",
              "\n",
              "    .dataframe thead th {\n",
              "        text-align: right;\n",
              "    }\n",
              "</style>\n",
              "<table border=\"1\" class=\"dataframe\">\n",
              "  <thead>\n",
              "    <tr style=\"text-align: right;\">\n",
              "      <th></th>\n",
              "      <th>Job Title</th>\n",
              "      <th>Company</th>\n",
              "      <th>Skills Required</th>\n",
              "      <th>Job Posted Ago</th>\n",
              "      <th>Location</th>\n",
              "      <th>Salary(Lacs p.a.)</th>\n",
              "      <th>Experience Required(Years)</th>\n",
              "    </tr>\n",
              "  </thead>\n",
              "  <tbody>\n",
              "    <tr>\n",
              "      <th>0</th>\n",
              "      <td>Power BI Analyst</td>\n",
              "      <td>Mindteck  ( India )  Ltd</td>\n",
              "      <td>sqlexpert,powerbiproficiency,daxknowledge,data...</td>\n",
              "      <td>few days ago</td>\n",
              "      <td>Mumbai</td>\n",
              "      <td>Not Provided</td>\n",
              "      <td>3 - 5</td>\n",
              "    </tr>\n",
              "    <tr>\n",
              "      <th>1</th>\n",
              "      <td>Power BI Analyst || Dehradun</td>\n",
              "      <td>ebizon net info  ( p )  ltd</td>\n",
              "      <td>biconsulting,datamining,machinelearning,busine...</td>\n",
              "      <td>few days ago</td>\n",
              "      <td>Dehradun</td>\n",
              "      <td>Not Provided</td>\n",
              "      <td>1 - 4</td>\n",
              "    </tr>\n",
              "    <tr>\n",
              "      <th>2</th>\n",
              "      <td>Senior Business Analyst</td>\n",
              "      <td>Fiserv India Pvt Ltd</td>\n",
              "      <td>businessanalysis,technicaldevelopment,stakehol...</td>\n",
              "      <td>6 days ago</td>\n",
              "      <td>Pune</td>\n",
              "      <td>Not Provided</td>\n",
              "      <td>8 - 11</td>\n",
              "    </tr>\n",
              "    <tr>\n",
              "      <th>3</th>\n",
              "      <td>EbizON || Power BI Consultant || Dehradun</td>\n",
              "      <td>ebizon net info  ( p )  ltd</td>\n",
              "      <td>bisystemstesting,datamining,machinelearning,bu...</td>\n",
              "      <td>few days ago</td>\n",
              "      <td>Dehradun</td>\n",
              "      <td>Not Provided</td>\n",
              "      <td>1 - 4</td>\n",
              "    </tr>\n",
              "    <tr>\n",
              "      <th>4</th>\n",
              "      <td>Machine Designer , Doctor / Nurse / Healthcare...</td>\n",
              "      <td>Imran</td>\n",
              "      <td>GeneralManagement,BusinessDevelopment,business...</td>\n",
              "      <td>2 days ago</td>\n",
              "      <td>Australia,  Canada,  New Zealand,  Singapore</td>\n",
              "      <td>4.10 - 6.20</td>\n",
              "      <td>0 - 2</td>\n",
              "    </tr>\n",
              "    <tr>\n",
              "      <th>5</th>\n",
              "      <td>Senior Business Analyst at Fiserv ,  Inc.</td>\n",
              "      <td>fiserv ce pvt ltd</td>\n",
              "      <td>businessanalysis,technicalspecifications,appli...</td>\n",
              "      <td>6 days ago</td>\n",
              "      <td>Pune</td>\n",
              "      <td>Not Provided</td>\n",
              "      <td>8 - 11</td>\n",
              "    </tr>\n",
              "    <tr>\n",
              "      <th>6</th>\n",
              "      <td>Business Analyst</td>\n",
              "      <td>LTIMindtree Ltd.</td>\n",
              "      <td>BusinessAnalyst,seniorbusinessanalyst,business...</td>\n",
              "      <td>few days ago</td>\n",
              "      <td>Navi Mumbai</td>\n",
              "      <td>Not Provided</td>\n",
              "      <td>3 - 5</td>\n",
              "    </tr>\n",
              "    <tr>\n",
              "      <th>7</th>\n",
              "      <td>Power BI Developer</td>\n",
              "      <td>BUSISOL SOURCING INDIA PVT. LTD</td>\n",
              "      <td>mdx,bi,datawarehousing,businessintelligence,sq...</td>\n",
              "      <td>4 days ago</td>\n",
              "      <td>Chennai</td>\n",
              "      <td>Not Provided</td>\n",
              "      <td>5 - 8</td>\n",
              "    </tr>\n",
              "    <tr>\n",
              "      <th>8</th>\n",
              "      <td>Power BI Developer</td>\n",
              "      <td>PUBLICIS GROUPE</td>\n",
              "      <td>businessservices,tax,accounting,treasury,legal...</td>\n",
              "      <td>3 days ago</td>\n",
              "      <td>Gurgaon</td>\n",
              "      <td>Not Provided</td>\n",
              "      <td>2 - 6</td>\n",
              "    </tr>\n",
              "    <tr>\n",
              "      <th>9</th>\n",
              "      <td>Power BI Developer</td>\n",
              "      <td>Techcronus</td>\n",
              "      <td>bi,database,datamodeling,dataintegration,datap...</td>\n",
              "      <td>6 days ago</td>\n",
              "      <td>Ahmedabad</td>\n",
              "      <td>Not Provided</td>\n",
              "      <td>2 - 4</td>\n",
              "    </tr>\n",
              "  </tbody>\n",
              "</table>\n",
              "</div>\n",
              "    <div class=\"colab-df-buttons\">\n",
              "\n",
              "  <div class=\"colab-df-container\">\n",
              "    <button class=\"colab-df-convert\" onclick=\"convertToInteractive('df-b7ef29c4-dfdf-4f05-8b87-d81c302690d7')\"\n",
              "            title=\"Convert this dataframe to an interactive table.\"\n",
              "            style=\"display:none;\">\n",
              "\n",
              "  <svg xmlns=\"http://www.w3.org/2000/svg\" height=\"24px\" viewBox=\"0 -960 960 960\">\n",
              "    <path d=\"M120-120v-720h720v720H120Zm60-500h600v-160H180v160Zm220 220h160v-160H400v160Zm0 220h160v-160H400v160ZM180-400h160v-160H180v160Zm440 0h160v-160H620v160ZM180-180h160v-160H180v160Zm440 0h160v-160H620v160Z\"/>\n",
              "  </svg>\n",
              "    </button>\n",
              "\n",
              "  <style>\n",
              "    .colab-df-container {\n",
              "      display:flex;\n",
              "      gap: 12px;\n",
              "    }\n",
              "\n",
              "    .colab-df-convert {\n",
              "      background-color: #E8F0FE;\n",
              "      border: none;\n",
              "      border-radius: 50%;\n",
              "      cursor: pointer;\n",
              "      display: none;\n",
              "      fill: #1967D2;\n",
              "      height: 32px;\n",
              "      padding: 0 0 0 0;\n",
              "      width: 32px;\n",
              "    }\n",
              "\n",
              "    .colab-df-convert:hover {\n",
              "      background-color: #E2EBFA;\n",
              "      box-shadow: 0px 1px 2px rgba(60, 64, 67, 0.3), 0px 1px 3px 1px rgba(60, 64, 67, 0.15);\n",
              "      fill: #174EA6;\n",
              "    }\n",
              "\n",
              "    .colab-df-buttons div {\n",
              "      margin-bottom: 4px;\n",
              "    }\n",
              "\n",
              "    [theme=dark] .colab-df-convert {\n",
              "      background-color: #3B4455;\n",
              "      fill: #D2E3FC;\n",
              "    }\n",
              "\n",
              "    [theme=dark] .colab-df-convert:hover {\n",
              "      background-color: #434B5C;\n",
              "      box-shadow: 0px 1px 3px 1px rgba(0, 0, 0, 0.15);\n",
              "      filter: drop-shadow(0px 1px 2px rgba(0, 0, 0, 0.3));\n",
              "      fill: #FFFFFF;\n",
              "    }\n",
              "  </style>\n",
              "\n",
              "    <script>\n",
              "      const buttonEl =\n",
              "        document.querySelector('#df-b7ef29c4-dfdf-4f05-8b87-d81c302690d7 button.colab-df-convert');\n",
              "      buttonEl.style.display =\n",
              "        google.colab.kernel.accessAllowed ? 'block' : 'none';\n",
              "\n",
              "      async function convertToInteractive(key) {\n",
              "        const element = document.querySelector('#df-b7ef29c4-dfdf-4f05-8b87-d81c302690d7');\n",
              "        const dataTable =\n",
              "          await google.colab.kernel.invokeFunction('convertToInteractive',\n",
              "                                                    [key], {});\n",
              "        if (!dataTable) return;\n",
              "\n",
              "        const docLinkHtml = 'Like what you see? Visit the ' +\n",
              "          '<a target=\"_blank\" href=https://colab.research.google.com/notebooks/data_table.ipynb>data table notebook</a>'\n",
              "          + ' to learn more about interactive tables.';\n",
              "        element.innerHTML = '';\n",
              "        dataTable['output_type'] = 'display_data';\n",
              "        await google.colab.output.renderOutput(dataTable, element);\n",
              "        const docLink = document.createElement('div');\n",
              "        docLink.innerHTML = docLinkHtml;\n",
              "        element.appendChild(docLink);\n",
              "      }\n",
              "    </script>\n",
              "  </div>\n",
              "\n",
              "\n",
              "<div id=\"df-7c429359-761d-479a-b9a6-84651be59be1\">\n",
              "  <button class=\"colab-df-quickchart\" onclick=\"quickchart('df-7c429359-761d-479a-b9a6-84651be59be1')\"\n",
              "            title=\"Suggest charts\"\n",
              "            style=\"display:none;\">\n",
              "\n",
              "<svg xmlns=\"http://www.w3.org/2000/svg\" height=\"24px\"viewBox=\"0 0 24 24\"\n",
              "     width=\"24px\">\n",
              "    <g>\n",
              "        <path d=\"M19 3H5c-1.1 0-2 .9-2 2v14c0 1.1.9 2 2 2h14c1.1 0 2-.9 2-2V5c0-1.1-.9-2-2-2zM9 17H7v-7h2v7zm4 0h-2V7h2v10zm4 0h-2v-4h2v4z\"/>\n",
              "    </g>\n",
              "</svg>\n",
              "  </button>\n",
              "\n",
              "<style>\n",
              "  .colab-df-quickchart {\n",
              "      --bg-color: #E8F0FE;\n",
              "      --fill-color: #1967D2;\n",
              "      --hover-bg-color: #E2EBFA;\n",
              "      --hover-fill-color: #174EA6;\n",
              "      --disabled-fill-color: #AAA;\n",
              "      --disabled-bg-color: #DDD;\n",
              "  }\n",
              "\n",
              "  [theme=dark] .colab-df-quickchart {\n",
              "      --bg-color: #3B4455;\n",
              "      --fill-color: #D2E3FC;\n",
              "      --hover-bg-color: #434B5C;\n",
              "      --hover-fill-color: #FFFFFF;\n",
              "      --disabled-bg-color: #3B4455;\n",
              "      --disabled-fill-color: #666;\n",
              "  }\n",
              "\n",
              "  .colab-df-quickchart {\n",
              "    background-color: var(--bg-color);\n",
              "    border: none;\n",
              "    border-radius: 50%;\n",
              "    cursor: pointer;\n",
              "    display: none;\n",
              "    fill: var(--fill-color);\n",
              "    height: 32px;\n",
              "    padding: 0;\n",
              "    width: 32px;\n",
              "  }\n",
              "\n",
              "  .colab-df-quickchart:hover {\n",
              "    background-color: var(--hover-bg-color);\n",
              "    box-shadow: 0 1px 2px rgba(60, 64, 67, 0.3), 0 1px 3px 1px rgba(60, 64, 67, 0.15);\n",
              "    fill: var(--button-hover-fill-color);\n",
              "  }\n",
              "\n",
              "  .colab-df-quickchart-complete:disabled,\n",
              "  .colab-df-quickchart-complete:disabled:hover {\n",
              "    background-color: var(--disabled-bg-color);\n",
              "    fill: var(--disabled-fill-color);\n",
              "    box-shadow: none;\n",
              "  }\n",
              "\n",
              "  .colab-df-spinner {\n",
              "    border: 2px solid var(--fill-color);\n",
              "    border-color: transparent;\n",
              "    border-bottom-color: var(--fill-color);\n",
              "    animation:\n",
              "      spin 1s steps(1) infinite;\n",
              "  }\n",
              "\n",
              "  @keyframes spin {\n",
              "    0% {\n",
              "      border-color: transparent;\n",
              "      border-bottom-color: var(--fill-color);\n",
              "      border-left-color: var(--fill-color);\n",
              "    }\n",
              "    20% {\n",
              "      border-color: transparent;\n",
              "      border-left-color: var(--fill-color);\n",
              "      border-top-color: var(--fill-color);\n",
              "    }\n",
              "    30% {\n",
              "      border-color: transparent;\n",
              "      border-left-color: var(--fill-color);\n",
              "      border-top-color: var(--fill-color);\n",
              "      border-right-color: var(--fill-color);\n",
              "    }\n",
              "    40% {\n",
              "      border-color: transparent;\n",
              "      border-right-color: var(--fill-color);\n",
              "      border-top-color: var(--fill-color);\n",
              "    }\n",
              "    60% {\n",
              "      border-color: transparent;\n",
              "      border-right-color: var(--fill-color);\n",
              "    }\n",
              "    80% {\n",
              "      border-color: transparent;\n",
              "      border-right-color: var(--fill-color);\n",
              "      border-bottom-color: var(--fill-color);\n",
              "    }\n",
              "    90% {\n",
              "      border-color: transparent;\n",
              "      border-bottom-color: var(--fill-color);\n",
              "    }\n",
              "  }\n",
              "</style>\n",
              "\n",
              "  <script>\n",
              "    async function quickchart(key) {\n",
              "      const quickchartButtonEl =\n",
              "        document.querySelector('#' + key + ' button');\n",
              "      quickchartButtonEl.disabled = true;  // To prevent multiple clicks.\n",
              "      quickchartButtonEl.classList.add('colab-df-spinner');\n",
              "      try {\n",
              "        const charts = await google.colab.kernel.invokeFunction(\n",
              "            'suggestCharts', [key], {});\n",
              "      } catch (error) {\n",
              "        console.error('Error during call to suggestCharts:', error);\n",
              "      }\n",
              "      quickchartButtonEl.classList.remove('colab-df-spinner');\n",
              "      quickchartButtonEl.classList.add('colab-df-quickchart-complete');\n",
              "    }\n",
              "    (() => {\n",
              "      let quickchartButtonEl =\n",
              "        document.querySelector('#df-7c429359-761d-479a-b9a6-84651be59be1 button');\n",
              "      quickchartButtonEl.style.display =\n",
              "        google.colab.kernel.accessAllowed ? 'block' : 'none';\n",
              "    })();\n",
              "  </script>\n",
              "</div>\n",
              "\n",
              "    </div>\n",
              "  </div>\n"
            ],
            "application/vnd.google.colaboratory.intrinsic+json": {
              "type": "dataframe",
              "variable_name": "df",
              "summary": "{\n  \"name\": \"df\",\n  \"rows\": 250,\n  \"fields\": [\n    {\n      \"column\": \"Job Title\",\n      \"properties\": {\n        \"dtype\": \"string\",\n        \"num_unique_values\": 201,\n        \"samples\": [\n          \"Business Analysis Job In AUSTRALIA\",\n          \"Sales  &  Marketing\",\n          \"Data Architect\"\n        ],\n        \"semantic_type\": \"\",\n        \"description\": \"\"\n      }\n    },\n    {\n      \"column\": \"Company\",\n      \"properties\": {\n        \"dtype\": \"string\",\n        \"num_unique_values\": 138,\n        \"samples\": [\n          \"E Hook Systems\",\n          \"TARGET\",\n          \"Live Connections Placements Services Pvt ltd.    \"\n        ],\n        \"semantic_type\": \"\",\n        \"description\": \"\"\n      }\n    },\n    {\n      \"column\": \"Skills Required\",\n      \"properties\": {\n        \"dtype\": \"string\",\n        \"num_unique_values\": 239,\n        \"samples\": [\n          \"r2,informationtechnology,dbms,t-sql,xml,ssrs,c#,triggers,Not Providednet,microsofttechnologies,bi,sql,t-sql,sqldeveloper,rdbms,productionsupport\",\n          \"BusinessAnalyst,seniorbusinessanalyst,businessconsultant,businessanalysis,StrategicPlanning,Datavisualization,PowerBi\",\n          \"technicalleadership,teammanagement,technicalexpertise,machinelearning,neuralnetworks,algorithms,c,technologyleadership,artificialintelligence,patternrecognition,python\"\n        ],\n        \"semantic_type\": \"\",\n        \"description\": \"\"\n      }\n    },\n    {\n      \"column\": \"Job Posted Ago\",\n      \"properties\": {\n        \"dtype\": \"category\",\n        \"num_unique_values\": 8,\n        \"samples\": [\n          \"6 days ago\",\n          \"1 day ago\",\n          \"few days ago\"\n        ],\n        \"semantic_type\": \"\",\n        \"description\": \"\"\n      }\n    },\n    {\n      \"column\": \"Location\",\n      \"properties\": {\n        \"dtype\": \"category\",\n        \"num_unique_values\": 70,\n        \"samples\": [\n          \"Kolkata,  Mumbai,  Noida/Greater Noida,  Pondicherry/Puducherry,  Zimbabwe\",\n          \"Mumbai\",\n          \"Ahmedabad,  Mumbai,  Pune,  Gandhinagar,  Rajkot\"\n        ],\n        \"semantic_type\": \"\",\n        \"description\": \"\"\n      }\n    },\n    {\n      \"column\": \"Salary(Lacs p.a.)\",\n      \"properties\": {\n        \"dtype\": \"category\",\n        \"num_unique_values\": 24,\n        \"samples\": [\n          \" 1.00 - 2.00 \",\n          \" 50.00 - 97.00 \",\n          \"Not Provided\"\n        ],\n        \"semantic_type\": \"\",\n        \"description\": \"\"\n      }\n    },\n    {\n      \"column\": \"Experience Required(Years)\",\n      \"properties\": {\n        \"dtype\": \"category\",\n        \"num_unique_values\": 56,\n        \"samples\": [\n          \"3 - 5 \",\n          \"2 - 6 \",\n          \"10 - 15 \"\n        ],\n        \"semantic_type\": \"\",\n        \"description\": \"\"\n      }\n    }\n  ]\n}"
            }
          },
          "metadata": {},
          "execution_count": 5
        }
      ]
    },
    {
      "cell_type": "markdown",
      "source": [
        "### **Dataset Rows & Columns count**"
      ],
      "metadata": {
        "id": "9b0ITmE6swKl"
      }
    },
    {
      "cell_type": "code",
      "source": [
        "# Dataset Rows & Columns count\n",
        "print('Scraped Data Rows Count:',df.shape[0])\n",
        "print('Scraped Data Columns Count:',df.shape[1])\n"
      ],
      "metadata": {
        "colab": {
          "base_uri": "https://localhost:8080/"
        },
        "id": "11tOn_TRsr8m",
        "outputId": "7568cfcf-b4b8-4f6c-d3f3-2070cb207047"
      },
      "execution_count": 6,
      "outputs": [
        {
          "output_type": "stream",
          "name": "stdout",
          "text": [
            "Scraped Data Rows Count: 250\n",
            "Scraped Data Columns Count: 7\n"
          ]
        }
      ]
    },
    {
      "cell_type": "markdown",
      "source": [
        "### **Dataset Information**\n"
      ],
      "metadata": {
        "id": "EAMDIEIXs2w9"
      }
    },
    {
      "cell_type": "code",
      "source": [
        "# Dataset Info\n",
        "print('Scraped Data Info:')\n",
        "df.info()\n"
      ],
      "metadata": {
        "colab": {
          "base_uri": "https://localhost:8080/"
        },
        "id": "4jDww_hEszZ2",
        "outputId": "3d3edac5-7ffa-4a60-fb75-10b05c646482"
      },
      "execution_count": 7,
      "outputs": [
        {
          "output_type": "stream",
          "name": "stdout",
          "text": [
            "Scraped Data Info:\n",
            "<class 'pandas.core.frame.DataFrame'>\n",
            "RangeIndex: 250 entries, 0 to 249\n",
            "Data columns (total 7 columns):\n",
            " #   Column                      Non-Null Count  Dtype \n",
            "---  ------                      --------------  ----- \n",
            " 0   Job Title                   250 non-null    object\n",
            " 1   Company                     250 non-null    object\n",
            " 2   Skills Required             250 non-null    object\n",
            " 3   Job Posted Ago              250 non-null    object\n",
            " 4   Location                    250 non-null    object\n",
            " 5   Salary(Lacs p.a.)           250 non-null    object\n",
            " 6   Experience Required(Years)  250 non-null    object\n",
            "dtypes: object(7)\n",
            "memory usage: 13.8+ KB\n"
          ]
        }
      ]
    },
    {
      "cell_type": "markdown",
      "source": [
        "#### **Duplicate Values**"
      ],
      "metadata": {
        "id": "8nXJP0q3s7od"
      }
    },
    {
      "cell_type": "code",
      "source": [
        "# Dataset Duplicate Value Count\n",
        "print('Play Store Data Duplicate Value Count:',len(df[df.duplicated()]))"
      ],
      "metadata": {
        "colab": {
          "base_uri": "https://localhost:8080/"
        },
        "id": "FuTuY3yus_D9",
        "outputId": "dfdfef27-4242-4fa0-9191-519a9dfcd30d"
      },
      "execution_count": 8,
      "outputs": [
        {
          "output_type": "stream",
          "name": "stdout",
          "text": [
            "Play Store Data Duplicate Value Count: 1\n"
          ]
        }
      ]
    },
    {
      "cell_type": "markdown",
      "source": [
        "#### **Missing Values/Null Values**"
      ],
      "metadata": {
        "id": "pJCCJNogtQYh"
      }
    },
    {
      "cell_type": "code",
      "source": [
        "# Missing Values/Null Values Count\n",
        "# Function to calculate the percentage of null values in each column\n",
        "def unified_null_percent(data_fm):\n",
        "    # Convert empty strings to NaN\n",
        "    data_fm = data_fm.replace('', pd.NA)\n",
        "\n",
        "    null_info = pd.DataFrame(index=data_fm.columns)\n",
        "    null_info[\"datatype\"] = data_fm.dtypes\n",
        "    null_info[\"not null values\"] = data_fm.count()\n",
        "    null_info[\"null value\"] = data_fm.isnull().sum()\n",
        "    null_info[\"null value(%)\"] = round(data_fm.isnull().mean() * 100, 2)\n",
        "\n",
        "    return null_info\n",
        "# Display the percentage of null values for Play Store Data\n",
        "print('Null value % in Scraped Data:', unified_null_percent(df), sep='\\n')"
      ],
      "metadata": {
        "colab": {
          "base_uri": "https://localhost:8080/"
        },
        "id": "DLx7ULWOtJ7l",
        "outputId": "797f2c3e-d4a1-4b34-e088-2198d8653f44"
      },
      "execution_count": 9,
      "outputs": [
        {
          "output_type": "stream",
          "name": "stdout",
          "text": [
            "Null value % in Scraped Data:\n",
            "                           datatype  not null values  null value  \\\n",
            "Job Title                    object              250           0   \n",
            "Company                      object              250           0   \n",
            "Skills Required              object              250           0   \n",
            "Job Posted Ago               object              250           0   \n",
            "Location                     object              239          11   \n",
            "Salary(Lacs p.a.)            object              250           0   \n",
            "Experience Required(Years)   object              250           0   \n",
            "\n",
            "                            null value(%)  \n",
            "Job Title                             0.0  \n",
            "Company                               0.0  \n",
            "Skills Required                       0.0  \n",
            "Job Posted Ago                        0.0  \n",
            "Location                              4.4  \n",
            "Salary(Lacs p.a.)                     0.0  \n",
            "Experience Required(Years)            0.0  \n"
          ]
        }
      ]
    },
    {
      "cell_type": "markdown",
      "source": [
        "###What did you know about your dataset?"
      ],
      "metadata": {
        "id": "l9iz_aM8tX0S"
      }
    },
    {
      "cell_type": "markdown",
      "source": [
        "The dataset is related to the online job portal industry, containing 250 rows and 7 columns obtained by scraping data from the first 10 pages of the job portal website. A 4.8% occurrence of missing values is observed in the 'Location' column. Our primary goal is to uncover trends in the current data science job market."
      ],
      "metadata": {
        "id": "wtuqpc0VtbJe"
      }
    },
    {
      "cell_type": "markdown",
      "source": [
        "## ***2. Understanding Your Variables***"
      ],
      "metadata": {
        "id": "aH8x6NVCtf6-"
      }
    },
    {
      "cell_type": "code",
      "source": [
        "# Dataset Columns\n",
        "print('Scraped Dataset Columns:',df.columns,sep='\\n',end='\\n\\n')"
      ],
      "metadata": {
        "colab": {
          "base_uri": "https://localhost:8080/"
        },
        "id": "VG6-SP6GtofG",
        "outputId": "a96f48c8-88bc-44c3-ed3a-f75d3234ae93"
      },
      "execution_count": 10,
      "outputs": [
        {
          "output_type": "stream",
          "name": "stdout",
          "text": [
            "Scraped Dataset Columns:\n",
            "Index(['Job Title', 'Company', 'Skills Required', 'Job Posted Ago', 'Location',\n",
            "       'Salary(Lacs p.a.)', 'Experience Required(Years)'],\n",
            "      dtype='object')\n",
            "\n"
          ]
        }
      ]
    },
    {
      "cell_type": "code",
      "source": [
        "# Dataset Description\n",
        "df.describe(include='object')"
      ],
      "metadata": {
        "colab": {
          "base_uri": "https://localhost:8080/",
          "height": 175
        },
        "id": "cxcbVBsCtq1V",
        "outputId": "4bf66455-b1c9-4ffb-d5be-e5f6a3616c8b"
      },
      "execution_count": 11,
      "outputs": [
        {
          "output_type": "execute_result",
          "data": {
            "text/plain": [
              "               Job Title                      Company  \\\n",
              "count                250                          250   \n",
              "unique               201                          138   \n",
              "top     Business Analyst  alliance recruitment agency   \n",
              "freq                  22                           13   \n",
              "\n",
              "                                      Skills Required Job Posted Ago  \\\n",
              "count                                             250            250   \n",
              "unique                                            239              8   \n",
              "top     machinelearning,artificialintelligence,docker   few days ago   \n",
              "freq                                                4             76   \n",
              "\n",
              "                     Location Salary(Lacs p.a.) Experience Required(Years)  \n",
              "count                     250               250                        250  \n",
              "unique                     70                24                         56  \n",
              "top     Bengaluru / Bangalore      Not Provided                     0 - 3   \n",
              "freq                       52               224                         24  "
            ],
            "text/html": [
              "\n",
              "  <div id=\"df-e4f66fd0-950a-4674-81da-2f70626458d3\" class=\"colab-df-container\">\n",
              "    <div>\n",
              "<style scoped>\n",
              "    .dataframe tbody tr th:only-of-type {\n",
              "        vertical-align: middle;\n",
              "    }\n",
              "\n",
              "    .dataframe tbody tr th {\n",
              "        vertical-align: top;\n",
              "    }\n",
              "\n",
              "    .dataframe thead th {\n",
              "        text-align: right;\n",
              "    }\n",
              "</style>\n",
              "<table border=\"1\" class=\"dataframe\">\n",
              "  <thead>\n",
              "    <tr style=\"text-align: right;\">\n",
              "      <th></th>\n",
              "      <th>Job Title</th>\n",
              "      <th>Company</th>\n",
              "      <th>Skills Required</th>\n",
              "      <th>Job Posted Ago</th>\n",
              "      <th>Location</th>\n",
              "      <th>Salary(Lacs p.a.)</th>\n",
              "      <th>Experience Required(Years)</th>\n",
              "    </tr>\n",
              "  </thead>\n",
              "  <tbody>\n",
              "    <tr>\n",
              "      <th>count</th>\n",
              "      <td>250</td>\n",
              "      <td>250</td>\n",
              "      <td>250</td>\n",
              "      <td>250</td>\n",
              "      <td>250</td>\n",
              "      <td>250</td>\n",
              "      <td>250</td>\n",
              "    </tr>\n",
              "    <tr>\n",
              "      <th>unique</th>\n",
              "      <td>201</td>\n",
              "      <td>138</td>\n",
              "      <td>239</td>\n",
              "      <td>8</td>\n",
              "      <td>70</td>\n",
              "      <td>24</td>\n",
              "      <td>56</td>\n",
              "    </tr>\n",
              "    <tr>\n",
              "      <th>top</th>\n",
              "      <td>Business Analyst</td>\n",
              "      <td>alliance recruitment agency</td>\n",
              "      <td>machinelearning,artificialintelligence,docker</td>\n",
              "      <td>few days ago</td>\n",
              "      <td>Bengaluru / Bangalore</td>\n",
              "      <td>Not Provided</td>\n",
              "      <td>0 - 3</td>\n",
              "    </tr>\n",
              "    <tr>\n",
              "      <th>freq</th>\n",
              "      <td>22</td>\n",
              "      <td>13</td>\n",
              "      <td>4</td>\n",
              "      <td>76</td>\n",
              "      <td>52</td>\n",
              "      <td>224</td>\n",
              "      <td>24</td>\n",
              "    </tr>\n",
              "  </tbody>\n",
              "</table>\n",
              "</div>\n",
              "    <div class=\"colab-df-buttons\">\n",
              "\n",
              "  <div class=\"colab-df-container\">\n",
              "    <button class=\"colab-df-convert\" onclick=\"convertToInteractive('df-e4f66fd0-950a-4674-81da-2f70626458d3')\"\n",
              "            title=\"Convert this dataframe to an interactive table.\"\n",
              "            style=\"display:none;\">\n",
              "\n",
              "  <svg xmlns=\"http://www.w3.org/2000/svg\" height=\"24px\" viewBox=\"0 -960 960 960\">\n",
              "    <path d=\"M120-120v-720h720v720H120Zm60-500h600v-160H180v160Zm220 220h160v-160H400v160Zm0 220h160v-160H400v160ZM180-400h160v-160H180v160Zm440 0h160v-160H620v160ZM180-180h160v-160H180v160Zm440 0h160v-160H620v160Z\"/>\n",
              "  </svg>\n",
              "    </button>\n",
              "\n",
              "  <style>\n",
              "    .colab-df-container {\n",
              "      display:flex;\n",
              "      gap: 12px;\n",
              "    }\n",
              "\n",
              "    .colab-df-convert {\n",
              "      background-color: #E8F0FE;\n",
              "      border: none;\n",
              "      border-radius: 50%;\n",
              "      cursor: pointer;\n",
              "      display: none;\n",
              "      fill: #1967D2;\n",
              "      height: 32px;\n",
              "      padding: 0 0 0 0;\n",
              "      width: 32px;\n",
              "    }\n",
              "\n",
              "    .colab-df-convert:hover {\n",
              "      background-color: #E2EBFA;\n",
              "      box-shadow: 0px 1px 2px rgba(60, 64, 67, 0.3), 0px 1px 3px 1px rgba(60, 64, 67, 0.15);\n",
              "      fill: #174EA6;\n",
              "    }\n",
              "\n",
              "    .colab-df-buttons div {\n",
              "      margin-bottom: 4px;\n",
              "    }\n",
              "\n",
              "    [theme=dark] .colab-df-convert {\n",
              "      background-color: #3B4455;\n",
              "      fill: #D2E3FC;\n",
              "    }\n",
              "\n",
              "    [theme=dark] .colab-df-convert:hover {\n",
              "      background-color: #434B5C;\n",
              "      box-shadow: 0px 1px 3px 1px rgba(0, 0, 0, 0.15);\n",
              "      filter: drop-shadow(0px 1px 2px rgba(0, 0, 0, 0.3));\n",
              "      fill: #FFFFFF;\n",
              "    }\n",
              "  </style>\n",
              "\n",
              "    <script>\n",
              "      const buttonEl =\n",
              "        document.querySelector('#df-e4f66fd0-950a-4674-81da-2f70626458d3 button.colab-df-convert');\n",
              "      buttonEl.style.display =\n",
              "        google.colab.kernel.accessAllowed ? 'block' : 'none';\n",
              "\n",
              "      async function convertToInteractive(key) {\n",
              "        const element = document.querySelector('#df-e4f66fd0-950a-4674-81da-2f70626458d3');\n",
              "        const dataTable =\n",
              "          await google.colab.kernel.invokeFunction('convertToInteractive',\n",
              "                                                    [key], {});\n",
              "        if (!dataTable) return;\n",
              "\n",
              "        const docLinkHtml = 'Like what you see? Visit the ' +\n",
              "          '<a target=\"_blank\" href=https://colab.research.google.com/notebooks/data_table.ipynb>data table notebook</a>'\n",
              "          + ' to learn more about interactive tables.';\n",
              "        element.innerHTML = '';\n",
              "        dataTable['output_type'] = 'display_data';\n",
              "        await google.colab.output.renderOutput(dataTable, element);\n",
              "        const docLink = document.createElement('div');\n",
              "        docLink.innerHTML = docLinkHtml;\n",
              "        element.appendChild(docLink);\n",
              "      }\n",
              "    </script>\n",
              "  </div>\n",
              "\n",
              "\n",
              "<div id=\"df-c4332ff1-bc83-4531-987f-5856eb8aa36a\">\n",
              "  <button class=\"colab-df-quickchart\" onclick=\"quickchart('df-c4332ff1-bc83-4531-987f-5856eb8aa36a')\"\n",
              "            title=\"Suggest charts\"\n",
              "            style=\"display:none;\">\n",
              "\n",
              "<svg xmlns=\"http://www.w3.org/2000/svg\" height=\"24px\"viewBox=\"0 0 24 24\"\n",
              "     width=\"24px\">\n",
              "    <g>\n",
              "        <path d=\"M19 3H5c-1.1 0-2 .9-2 2v14c0 1.1.9 2 2 2h14c1.1 0 2-.9 2-2V5c0-1.1-.9-2-2-2zM9 17H7v-7h2v7zm4 0h-2V7h2v10zm4 0h-2v-4h2v4z\"/>\n",
              "    </g>\n",
              "</svg>\n",
              "  </button>\n",
              "\n",
              "<style>\n",
              "  .colab-df-quickchart {\n",
              "      --bg-color: #E8F0FE;\n",
              "      --fill-color: #1967D2;\n",
              "      --hover-bg-color: #E2EBFA;\n",
              "      --hover-fill-color: #174EA6;\n",
              "      --disabled-fill-color: #AAA;\n",
              "      --disabled-bg-color: #DDD;\n",
              "  }\n",
              "\n",
              "  [theme=dark] .colab-df-quickchart {\n",
              "      --bg-color: #3B4455;\n",
              "      --fill-color: #D2E3FC;\n",
              "      --hover-bg-color: #434B5C;\n",
              "      --hover-fill-color: #FFFFFF;\n",
              "      --disabled-bg-color: #3B4455;\n",
              "      --disabled-fill-color: #666;\n",
              "  }\n",
              "\n",
              "  .colab-df-quickchart {\n",
              "    background-color: var(--bg-color);\n",
              "    border: none;\n",
              "    border-radius: 50%;\n",
              "    cursor: pointer;\n",
              "    display: none;\n",
              "    fill: var(--fill-color);\n",
              "    height: 32px;\n",
              "    padding: 0;\n",
              "    width: 32px;\n",
              "  }\n",
              "\n",
              "  .colab-df-quickchart:hover {\n",
              "    background-color: var(--hover-bg-color);\n",
              "    box-shadow: 0 1px 2px rgba(60, 64, 67, 0.3), 0 1px 3px 1px rgba(60, 64, 67, 0.15);\n",
              "    fill: var(--button-hover-fill-color);\n",
              "  }\n",
              "\n",
              "  .colab-df-quickchart-complete:disabled,\n",
              "  .colab-df-quickchart-complete:disabled:hover {\n",
              "    background-color: var(--disabled-bg-color);\n",
              "    fill: var(--disabled-fill-color);\n",
              "    box-shadow: none;\n",
              "  }\n",
              "\n",
              "  .colab-df-spinner {\n",
              "    border: 2px solid var(--fill-color);\n",
              "    border-color: transparent;\n",
              "    border-bottom-color: var(--fill-color);\n",
              "    animation:\n",
              "      spin 1s steps(1) infinite;\n",
              "  }\n",
              "\n",
              "  @keyframes spin {\n",
              "    0% {\n",
              "      border-color: transparent;\n",
              "      border-bottom-color: var(--fill-color);\n",
              "      border-left-color: var(--fill-color);\n",
              "    }\n",
              "    20% {\n",
              "      border-color: transparent;\n",
              "      border-left-color: var(--fill-color);\n",
              "      border-top-color: var(--fill-color);\n",
              "    }\n",
              "    30% {\n",
              "      border-color: transparent;\n",
              "      border-left-color: var(--fill-color);\n",
              "      border-top-color: var(--fill-color);\n",
              "      border-right-color: var(--fill-color);\n",
              "    }\n",
              "    40% {\n",
              "      border-color: transparent;\n",
              "      border-right-color: var(--fill-color);\n",
              "      border-top-color: var(--fill-color);\n",
              "    }\n",
              "    60% {\n",
              "      border-color: transparent;\n",
              "      border-right-color: var(--fill-color);\n",
              "    }\n",
              "    80% {\n",
              "      border-color: transparent;\n",
              "      border-right-color: var(--fill-color);\n",
              "      border-bottom-color: var(--fill-color);\n",
              "    }\n",
              "    90% {\n",
              "      border-color: transparent;\n",
              "      border-bottom-color: var(--fill-color);\n",
              "    }\n",
              "  }\n",
              "</style>\n",
              "\n",
              "  <script>\n",
              "    async function quickchart(key) {\n",
              "      const quickchartButtonEl =\n",
              "        document.querySelector('#' + key + ' button');\n",
              "      quickchartButtonEl.disabled = true;  // To prevent multiple clicks.\n",
              "      quickchartButtonEl.classList.add('colab-df-spinner');\n",
              "      try {\n",
              "        const charts = await google.colab.kernel.invokeFunction(\n",
              "            'suggestCharts', [key], {});\n",
              "      } catch (error) {\n",
              "        console.error('Error during call to suggestCharts:', error);\n",
              "      }\n",
              "      quickchartButtonEl.classList.remove('colab-df-spinner');\n",
              "      quickchartButtonEl.classList.add('colab-df-quickchart-complete');\n",
              "    }\n",
              "    (() => {\n",
              "      let quickchartButtonEl =\n",
              "        document.querySelector('#df-c4332ff1-bc83-4531-987f-5856eb8aa36a button');\n",
              "      quickchartButtonEl.style.display =\n",
              "        google.colab.kernel.accessAllowed ? 'block' : 'none';\n",
              "    })();\n",
              "  </script>\n",
              "</div>\n",
              "\n",
              "    </div>\n",
              "  </div>\n"
            ],
            "application/vnd.google.colaboratory.intrinsic+json": {
              "type": "dataframe",
              "summary": "{\n  \"name\": \"df\",\n  \"rows\": 4,\n  \"fields\": [\n    {\n      \"column\": \"Job Title\",\n      \"properties\": {\n        \"dtype\": \"string\",\n        \"num_unique_values\": 4,\n        \"samples\": [\n          201,\n          \"22\",\n          \"250\"\n        ],\n        \"semantic_type\": \"\",\n        \"description\": \"\"\n      }\n    },\n    {\n      \"column\": \"Company\",\n      \"properties\": {\n        \"dtype\": \"string\",\n        \"num_unique_values\": 4,\n        \"samples\": [\n          138,\n          \"13\",\n          \"250\"\n        ],\n        \"semantic_type\": \"\",\n        \"description\": \"\"\n      }\n    },\n    {\n      \"column\": \"Skills Required\",\n      \"properties\": {\n        \"dtype\": \"string\",\n        \"num_unique_values\": 4,\n        \"samples\": [\n          239,\n          \"4\",\n          \"250\"\n        ],\n        \"semantic_type\": \"\",\n        \"description\": \"\"\n      }\n    },\n    {\n      \"column\": \"Job Posted Ago\",\n      \"properties\": {\n        \"dtype\": \"string\",\n        \"num_unique_values\": 4,\n        \"samples\": [\n          8,\n          \"76\",\n          \"250\"\n        ],\n        \"semantic_type\": \"\",\n        \"description\": \"\"\n      }\n    },\n    {\n      \"column\": \"Location\",\n      \"properties\": {\n        \"dtype\": \"string\",\n        \"num_unique_values\": 4,\n        \"samples\": [\n          70,\n          \"52\",\n          \"250\"\n        ],\n        \"semantic_type\": \"\",\n        \"description\": \"\"\n      }\n    },\n    {\n      \"column\": \"Salary(Lacs p.a.)\",\n      \"properties\": {\n        \"dtype\": \"string\",\n        \"num_unique_values\": 4,\n        \"samples\": [\n          24,\n          \"224\",\n          \"250\"\n        ],\n        \"semantic_type\": \"\",\n        \"description\": \"\"\n      }\n    },\n    {\n      \"column\": \"Experience Required(Years)\",\n      \"properties\": {\n        \"dtype\": \"string\",\n        \"num_unique_values\": 4,\n        \"samples\": [\n          56,\n          \"24\",\n          \"250\"\n        ],\n        \"semantic_type\": \"\",\n        \"description\": \"\"\n      }\n    }\n  ]\n}"
            }
          },
          "metadata": {},
          "execution_count": 11
        }
      ]
    },
    {
      "cell_type": "markdown",
      "source": [
        "### **Variables Description**\n"
      ],
      "metadata": {
        "id": "A5yYgeJ3tu2N"
      }
    },
    {
      "cell_type": "markdown",
      "source": [
        "###Descriptions for Scraped Dataset:\n",
        "**Job Title:** The specific designation associated with the job opening.\n",
        "\n",
        "**Company:** The name of the organization that has posted the job.\n",
        "\n",
        "**Skills Required:** The essential skills and qualifications needed for the job.\n",
        "\n",
        "**Job Posted Ago:** The number of days elapsed since the job was posted, providing insight into its freshness.\n",
        "\n",
        "**Location:** The list of cities where the job opportunity is available.\n",
        "\n",
        "**Salary (Lacs p.a.):** The salary range for the position on an annual basis, denoted in lakhs.\n",
        "\n",
        "**Experience Required (Years):** The number of years of professional experience required for the job."
      ],
      "metadata": {
        "id": "8M6So-49twQu"
      }
    },
    {
      "cell_type": "markdown",
      "source": [
        "## 3. ***Data Wrangling***"
      ],
      "metadata": {
        "id": "On6QG1Tot2Sy"
      }
    },
    {
      "cell_type": "code",
      "source": [
        "# Show Dataset Rows & Columns count Before Removing Duplicates\n",
        "print('Shape Before Removing Duplicates:')\n",
        "print('Scraped Dataset Rows count:',df.shape[0])\n",
        "print('Scraped Dataset Columns count:',df.shape[1],end='\\n\\n')\n",
        "\n",
        "# Remove duplicates\n",
        "df.drop_duplicates(inplace=True)\n",
        "\n",
        "# Show Dataset Rows & Columns count After Removing Duplicates\n",
        "print('Shape After Removing Duplicates:')\n",
        "print('Scraped Dataset Rows count:',df.shape[0])\n",
        "print('Scraped Dataset Columns count:',df.shape[1])\n"
      ],
      "metadata": {
        "colab": {
          "base_uri": "https://localhost:8080/"
        },
        "id": "IVtUOdKqtzqF",
        "outputId": "7db19c78-234e-49a2-c353-a99cd90d9887"
      },
      "execution_count": 12,
      "outputs": [
        {
          "output_type": "stream",
          "name": "stdout",
          "text": [
            "Shape Before Removing Duplicates:\n",
            "Scraped Dataset Rows count: 250\n",
            "Scraped Dataset Columns count: 7\n",
            "\n",
            "Shape After Removing Duplicates:\n",
            "Scraped Dataset Rows count: 249\n",
            "Scraped Dataset Columns count: 7\n"
          ]
        }
      ]
    },
    {
      "cell_type": "code",
      "source": [
        "# Show Dataset Rows & Columns count Before Removing Missing Values\n",
        "print('Shape Before Removing Missing Values:')\n",
        "print('Scraped Dataset Rows count:',df.shape[0])\n",
        "print('Scraped Dataset Columns count:',df.shape[1],end='\\n\\n')\n",
        "\n",
        "# Replace empty strings with NaN in the 'Location' column\n",
        "df['Location'].replace('', pd.NA, inplace=True)\n",
        "\n",
        "# Drop rows with null values in the 'Location' column\n",
        "df.dropna(subset=['Location'], inplace=True)\n",
        "\n",
        "# Show Dataset Rows & Columns count After Removing Missing Values\n",
        "print('Shape After Removing Missing Values:')\n",
        "print('Scraped Dataset Rows count:',df.shape[0])\n",
        "print('Scraped Dataset Columns count:',df.shape[1])"
      ],
      "metadata": {
        "colab": {
          "base_uri": "https://localhost:8080/"
        },
        "id": "oKyQ8ylVt877",
        "outputId": "7ad7b6c4-f692-4bea-ab56-81a9429adc06"
      },
      "execution_count": 13,
      "outputs": [
        {
          "output_type": "stream",
          "name": "stdout",
          "text": [
            "Shape Before Removing Missing Values:\n",
            "Scraped Dataset Rows count: 249\n",
            "Scraped Dataset Columns count: 7\n",
            "\n",
            "Shape After Removing Missing Values:\n",
            "Scraped Dataset Rows count: 239\n",
            "Scraped Dataset Columns count: 7\n"
          ]
        }
      ]
    },
    {
      "cell_type": "code",
      "source": [
        "# Check missing values again to confirm\n",
        "print('Updated number of missing values in Scraped Dataset:')\n",
        "df.isnull().sum()\n"
      ],
      "metadata": {
        "colab": {
          "base_uri": "https://localhost:8080/"
        },
        "id": "siAcCu7juAQa",
        "outputId": "e0cbf49a-0e72-403f-ab04-b14069367185"
      },
      "execution_count": 14,
      "outputs": [
        {
          "output_type": "stream",
          "name": "stdout",
          "text": [
            "Updated number of missing values in Scraped Dataset:\n"
          ]
        },
        {
          "output_type": "execute_result",
          "data": {
            "text/plain": [
              "Job Title                     0\n",
              "Company                       0\n",
              "Skills Required               0\n",
              "Job Posted Ago                0\n",
              "Location                      0\n",
              "Salary(Lacs p.a.)             0\n",
              "Experience Required(Years)    0\n",
              "dtype: int64"
            ]
          },
          "metadata": {},
          "execution_count": 14
        }
      ]
    },
    {
      "cell_type": "markdown",
      "source": [
        "### What all manipulations have you done and insights you found?"
      ],
      "metadata": {
        "id": "xwoCCmuouIgV"
      }
    },
    {
      "cell_type": "markdown",
      "source": [
        "- Show Dataset Rows & Columns count Before Removing Duplicates\n",
        "  - Rows count: 250\n",
        "  - Columns count: 7\n",
        "- Remove duplicates\n",
        "  - `df.drop_duplicates(inplace=True)`\n",
        "- Show Dataset Rows & Columns count After Removing Duplicates\n",
        "  - Rows count: 248\n",
        "  - Columns count: 7\n",
        "  \n",
        "- Show Dataset Rows & Columns count Before Removing Missing Values\n",
        "  - Rows count: 248\n",
        "  - Columns count: 7\n",
        "\n",
        "- Replace empty strings with NaN in the 'Location' column\n",
        "  - `df['Location'].replace('', pd.NA, inplace=True)`\n",
        "  \n",
        "- Drop rows with null values in the 'Location' column\n",
        "  - `df.dropna(subset=['Location'], inplace=True)`\n",
        "\n",
        "- Show Dataset Rows & Columns count After Removing Missing Values\n",
        "  - Rows count: 236\n",
        "  - Columns count: 7\n",
        "\n",
        "- Check missing values again to confirm\n",
        "  - `df.isnull().sum()`"
      ],
      "metadata": {
        "id": "axder_ZuuGt1"
      }
    }
  ]
}